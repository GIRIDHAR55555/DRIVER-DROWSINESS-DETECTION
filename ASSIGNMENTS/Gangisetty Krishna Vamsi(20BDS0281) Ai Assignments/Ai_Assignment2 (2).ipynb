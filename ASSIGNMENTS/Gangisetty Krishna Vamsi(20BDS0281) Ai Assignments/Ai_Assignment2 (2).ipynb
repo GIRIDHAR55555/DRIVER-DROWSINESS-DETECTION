{
  "nbformat": 4,
  "nbformat_minor": 0,
  "metadata": {
    "colab": {
      "provenance": []
    },
    "kernelspec": {
      "name": "python3",
      "display_name": "Python 3"
    },
    "language_info": {
      "name": "python"
    }
  },
  "cells": [
    {
      "cell_type": "markdown",
      "source": [
        "AI Assignment 2\n",
        "\n",
        "Name : Gangisetty Krishna Vamsi\n",
        "\n",
        "Reg.No : 20BDS0281\n",
        "\n",
        "college : VIT Vellore\n",
        "\n",
        "email :gangikrishna.vamsi2020@vitstudent.ac.in"
      ],
      "metadata": {
        "id": "shXmrZUptrXp"
      }
    },
    {
      "cell_type": "code",
      "source": [
        "import pandas as pd\n",
        "import numpy as np\n",
        "from sklearn.preprocessing import LabelEncoder, StandardScaler\n",
        "from sklearn.model_selection import train_test_split"
      ],
      "metadata": {
        "id": "96o2NP1ftt_z"
      },
      "execution_count": null,
      "outputs": []
    },
    {
      "cell_type": "code",
      "source": [
        "df = pd.read_csv('drug200.csv')"
      ],
      "metadata": {
        "id": "-kQECxmWt9Fb"
      },
      "execution_count": null,
      "outputs": []
    },
    {
      "cell_type": "markdown",
      "source": [
        "# Task 1 : Read the dataset and do data pre-processing"
      ],
      "metadata": {
        "id": "mE83O80RuIQs"
      }
    },
    {
      "cell_type": "code",
      "source": [
        "label_encoder = LabelEncoder()\n",
        "df['Sex'] = label_encoder.fit_transform(df['Sex'])\n",
        "df['BP'] = label_encoder.fit_transform(df['BP'])\n",
        "df['Cholesterol'] = label_encoder.fit_transform(df['Cholesterol'])\n",
        "df['Drug'] = label_encoder.fit_transform(df['Drug'])\n",
        "print(df.head())"
      ],
      "metadata": {
        "colab": {
          "base_uri": "https://localhost:8080/"
        },
        "id": "dNgH-YMPuKs0",
        "outputId": "7e017e2a-f1c0-42ee-b968-fd0da7588c73"
      },
      "execution_count": null,
      "outputs": [
        {
          "output_type": "stream",
          "name": "stdout",
          "text": [
            "   Age  Sex  BP  Cholesterol  Na_to_K  Drug\n",
            "0   23    0   0            0   25.355     0\n",
            "1   47    1   1            0   13.093     3\n",
            "2   47    1   1            0   10.114     3\n",
            "3   28    0   2            0    7.798     4\n",
            "4   61    0   1            0   18.043     0\n"
          ]
        }
      ]
    },
    {
      "cell_type": "code",
      "source": [
        "# Scale numerical variables\n",
        "scaler = StandardScaler()\n",
        "df[['Age', 'Na_to_K']] = scaler.fit_transform(df[['Age', 'Na_to_K']])"
      ],
      "metadata": {
        "id": "xjJQmd7XuRvO"
      },
      "execution_count": null,
      "outputs": []
    },
    {
      "cell_type": "code",
      "source": [
        "# Separate features and labels\n",
        "X = df[['Age', 'Sex', 'BP', 'Cholesterol', 'Na_to_K']]\n",
        "y = df['Drug']"
      ],
      "metadata": {
        "id": "05JBbstouWHW"
      },
      "execution_count": null,
      "outputs": []
    },
    {
      "cell_type": "code",
      "source": [
        "# Split the dataset into training and testing sets\n",
        "X_train, X_test, y_train, y_test = train_test_split(X, y, test_size=0.2,random_state=42)"
      ],
      "metadata": {
        "id": "57TGUugduaNz"
      },
      "execution_count": null,
      "outputs": []
    },
    {
      "cell_type": "code",
      "source": [
        "print(X_train.shape)\n",
        "print(y_test.shape)"
      ],
      "metadata": {
        "colab": {
          "base_uri": "https://localhost:8080/"
        },
        "id": "whGt0IdAu_9o",
        "outputId": "dbf3fbb4-d9b6-4620-b12e-ad9b76da5357"
      },
      "execution_count": null,
      "outputs": [
        {
          "output_type": "stream",
          "name": "stdout",
          "text": [
            "(160, 5)\n",
            "(40,)\n"
          ]
        }
      ]
    },
    {
      "cell_type": "markdown",
      "source": [
        "# Task 2 : Build the ANN model with (input layer, min 3 hidden layers & output layer)\n"
      ],
      "metadata": {
        "id": "ztcMpNfwvdHn"
      }
    },
    {
      "cell_type": "code",
      "source": [
        "import tensorflow as tf\n",
        "from tensorflow.keras.models import Sequential\n",
        "from tensorflow.keras.layers import Dense"
      ],
      "metadata": {
        "id": "wUASKhj7vh6s"
      },
      "execution_count": null,
      "outputs": []
    },
    {
      "cell_type": "code",
      "source": [
        "# Define the model architecture\n",
        "model = Sequential()\n",
        "model.add(Dense(64, activation='relu', input_shape=(5,)))\n",
        "model.add(Dense(128, activation='relu'))\n",
        "model.add(Dense(64, activation='relu'))\n",
        "model.add(Dense(32, activation='relu'))\n",
        "model.add(Dense(5, activation='softmax'))"
      ],
      "metadata": {
        "id": "vlWG2_pbvmae"
      },
      "execution_count": null,
      "outputs": []
    },
    {
      "cell_type": "code",
      "source": [
        "x = df.iloc[:,0:5]\n",
        "y = df.iloc[:,5:]\n",
        "print(x)\n",
        "print(y)"
      ],
      "metadata": {
        "colab": {
          "base_uri": "https://localhost:8080/"
        },
        "id": "Baipx4B9vrJZ",
        "outputId": "4dc97b4a-d879-4700-f624-8858c931e8c2"
      },
      "execution_count": null,
      "outputs": [
        {
          "output_type": "stream",
          "name": "stdout",
          "text": [
            "          Age  Sex  BP  Cholesterol   Na_to_K\n",
            "0   -1.291591    0   0            0  1.286522\n",
            "1    0.162699    1   1            0 -0.415145\n",
            "2    0.162699    1   1            0 -0.828558\n",
            "3   -0.988614    0   2            0 -1.149963\n",
            "4    1.011034    0   1            0  0.271794\n",
            "..        ...  ...  ..          ...       ...\n",
            "195  0.708057    0   1            0 -0.626917\n",
            "196 -1.715759    1   1            0 -0.565995\n",
            "197  0.465676    1   2            0 -0.859089\n",
            "198 -1.291591    1   2            1 -0.286500\n",
            "199 -0.261469    0   1            1 -0.657170\n",
            "\n",
            "[200 rows x 5 columns]\n",
            "     Drug\n",
            "0       0\n",
            "1       3\n",
            "2       3\n",
            "3       4\n",
            "4       0\n",
            "..    ...\n",
            "195     3\n",
            "196     3\n",
            "197     4\n",
            "198     4\n",
            "199     4\n",
            "\n",
            "[200 rows x 1 columns]\n"
          ]
        }
      ]
    },
    {
      "cell_type": "code",
      "source": [
        "# Compile the model\n",
        "model.compile(loss='sparse_categorical_crossentropy', optimizer='adam',metrics=['accuracy'])\n",
        "y_train_encoded = label_encoder.fit_transform(y_train)\n",
        "y_test_encoded = label_encoder.transform(y_test)\n",
        "model.fit(X_train, y_train_encoded, epochs=20, batch_size=20,validation_data=(X_test, y_test_encoded))"
      ],
      "metadata": {
        "colab": {
          "base_uri": "https://localhost:8080/"
        },
        "id": "_UPFrRaQvykm",
        "outputId": "a72f7905-3e14-4388-9493-5cd669cc64c8"
      },
      "execution_count": null,
      "outputs": [
        {
          "output_type": "stream",
          "name": "stdout",
          "text": [
            "Epoch 1/20\n",
            "8/8 [==============================] - 1s 30ms/step - loss: 1.5333 - accuracy: 0.4375 - val_loss: 1.4609 - val_accuracy: 0.5750\n",
            "Epoch 2/20\n",
            "8/8 [==============================] - 0s 7ms/step - loss: 1.3591 - accuracy: 0.6687 - val_loss: 1.3021 - val_accuracy: 0.6000\n",
            "Epoch 3/20\n",
            "8/8 [==============================] - 0s 4ms/step - loss: 1.1273 - accuracy: 0.6750 - val_loss: 1.0769 - val_accuracy: 0.6000\n",
            "Epoch 4/20\n",
            "8/8 [==============================] - 0s 4ms/step - loss: 0.8779 - accuracy: 0.6875 - val_loss: 0.8743 - val_accuracy: 0.6250\n",
            "Epoch 5/20\n",
            "8/8 [==============================] - 0s 4ms/step - loss: 0.6731 - accuracy: 0.7625 - val_loss: 0.7003 - val_accuracy: 0.8000\n",
            "Epoch 6/20\n",
            "8/8 [==============================] - 0s 4ms/step - loss: 0.5185 - accuracy: 0.8875 - val_loss: 0.5997 - val_accuracy: 0.8250\n",
            "Epoch 7/20\n",
            "8/8 [==============================] - 0s 4ms/step - loss: 0.4107 - accuracy: 0.9000 - val_loss: 0.5079 - val_accuracy: 0.8500\n",
            "Epoch 8/20\n",
            "8/8 [==============================] - 0s 5ms/step - loss: 0.3332 - accuracy: 0.9125 - val_loss: 0.4127 - val_accuracy: 0.8750\n",
            "Epoch 9/20\n",
            "8/8 [==============================] - 0s 5ms/step - loss: 0.2748 - accuracy: 0.9312 - val_loss: 0.3762 - val_accuracy: 0.8750\n",
            "Epoch 10/20\n",
            "8/8 [==============================] - 0s 4ms/step - loss: 0.2377 - accuracy: 0.9062 - val_loss: 0.3104 - val_accuracy: 0.8750\n",
            "Epoch 11/20\n",
            "8/8 [==============================] - 0s 4ms/step - loss: 0.2018 - accuracy: 0.9438 - val_loss: 0.2988 - val_accuracy: 0.9000\n",
            "Epoch 12/20\n",
            "8/8 [==============================] - 0s 5ms/step - loss: 0.1778 - accuracy: 0.9500 - val_loss: 0.2459 - val_accuracy: 0.9000\n",
            "Epoch 13/20\n",
            "8/8 [==============================] - 0s 7ms/step - loss: 0.1556 - accuracy: 0.9438 - val_loss: 0.2310 - val_accuracy: 0.9000\n",
            "Epoch 14/20\n",
            "8/8 [==============================] - 0s 4ms/step - loss: 0.1310 - accuracy: 0.9625 - val_loss: 0.2035 - val_accuracy: 0.9250\n",
            "Epoch 15/20\n",
            "8/8 [==============================] - 0s 4ms/step - loss: 0.1194 - accuracy: 0.9688 - val_loss: 0.1884 - val_accuracy: 0.9000\n",
            "Epoch 16/20\n",
            "8/8 [==============================] - 0s 4ms/step - loss: 0.1062 - accuracy: 0.9688 - val_loss: 0.1681 - val_accuracy: 0.9250\n",
            "Epoch 17/20\n",
            "8/8 [==============================] - 0s 4ms/step - loss: 0.0953 - accuracy: 0.9812 - val_loss: 0.1527 - val_accuracy: 0.9500\n",
            "Epoch 18/20\n",
            "8/8 [==============================] - 0s 4ms/step - loss: 0.0890 - accuracy: 0.9688 - val_loss: 0.1443 - val_accuracy: 0.9750\n",
            "Epoch 19/20\n",
            "8/8 [==============================] - 0s 7ms/step - loss: 0.0767 - accuracy: 0.9812 - val_loss: 0.1205 - val_accuracy: 0.9750\n",
            "Epoch 20/20\n",
            "8/8 [==============================] - 0s 5ms/step - loss: 0.0720 - accuracy: 0.9750 - val_loss: 0.1176 - val_accuracy: 0.9750\n"
          ]
        },
        {
          "output_type": "execute_result",
          "data": {
            "text/plain": [
              "<keras.callbacks.History at 0x7f78df139960>"
            ]
          },
          "metadata": {},
          "execution_count": 22
        }
      ]
    },
    {
      "cell_type": "code",
      "source": [
        "y_pred = model.predict(X_test)\n",
        "y_pred"
      ],
      "metadata": {
        "colab": {
          "base_uri": "https://localhost:8080/"
        },
        "id": "5cDPjdWov9Yl",
        "outputId": "3502b378-b6ef-445f-9d1d-4bb648e3bf18"
      },
      "execution_count": null,
      "outputs": [
        {
          "output_type": "stream",
          "name": "stdout",
          "text": [
            "2/2 [==============================] - 0s 3ms/step\n"
          ]
        },
        {
          "output_type": "execute_result",
          "data": {
            "text/plain": [
              "array([[5.7366898e-04, 1.2736394e-04, 1.8535064e-05, 4.1879721e-02,\n",
              "        9.5740068e-01],\n",
              "       [9.8324859e-01, 1.0361422e-02, 2.6318815e-04, 5.7714866e-03,\n",
              "        3.5526982e-04],\n",
              "       [3.7239156e-06, 1.0364023e-06, 3.1783184e-08, 7.3310221e-03,\n",
              "        9.9266416e-01],\n",
              "       [1.6505459e-04, 9.3996857e-04, 1.3556110e-02, 7.2868824e-01,\n",
              "        2.5665051e-01],\n",
              "       [9.9999994e-01, 1.6863833e-16, 1.8314687e-14, 5.8122699e-12,\n",
              "        4.3653178e-13],\n",
              "       [9.9891889e-01, 4.5725810e-05, 3.0506196e-04, 6.6779141e-04,\n",
              "        6.2469619e-05],\n",
              "       [9.9999779e-01, 1.7923405e-08, 7.2562585e-08, 1.7651082e-06,\n",
              "        2.1409824e-07],\n",
              "       [3.5240431e-03, 1.5230335e-06, 7.1923319e-07, 2.0866327e-02,\n",
              "        9.7560734e-01],\n",
              "       [6.1974034e-02, 6.7531657e-01, 8.1826426e-02, 1.4918542e-01,\n",
              "        3.1697568e-02],\n",
              "       [9.9381744e-08, 6.5656098e-09, 2.9737328e-07, 2.8406263e-03,\n",
              "        9.9715894e-01],\n",
              "       [5.0144276e-04, 9.9138027e-01, 4.9245381e-04, 7.4816998e-03,\n",
              "        1.4411063e-04],\n",
              "       [6.7279334e-03, 5.6845713e-03, 1.3511204e-04, 2.2758473e-01,\n",
              "        7.5986767e-01],\n",
              "       [9.9984288e-01, 1.7012269e-07, 1.0482370e-06, 8.3285755e-05,\n",
              "        7.2534436e-05],\n",
              "       [1.1946269e-02, 9.6325558e-01, 1.2476174e-03, 2.2957891e-02,\n",
              "        5.9273269e-04],\n",
              "       [3.2897537e-05, 9.5248758e-04, 9.8877794e-01, 1.0200561e-02,\n",
              "        3.6066773e-05],\n",
              "       [9.9992651e-01, 4.7136045e-10, 3.5989896e-09, 1.2744539e-05,\n",
              "        6.0714574e-05],\n",
              "       [2.9487553e-04, 8.7926345e-04, 9.8734874e-01, 1.0748758e-02,\n",
              "        7.2838779e-04],\n",
              "       [2.7253757e-08, 4.0693404e-09, 2.2954080e-08, 2.3762800e-03,\n",
              "        9.9762356e-01],\n",
              "       [2.3553293e-04, 2.5890194e-02, 5.0770788e-04, 5.6319612e-01,\n",
              "        4.1017041e-01],\n",
              "       [9.9999994e-01, 1.9278785e-14, 2.8700911e-12, 1.0069469e-09,\n",
              "        8.5004265e-10],\n",
              "       [7.6509267e-03, 2.1926614e-02, 9.0725315e-01, 4.2679988e-02,\n",
              "        2.0489221e-02],\n",
              "       [8.7648799e-04, 6.6970133e-06, 4.0172562e-03, 4.9075127e-02,\n",
              "        9.4602454e-01],\n",
              "       [2.8480617e-05, 2.1350401e-04, 9.8549752e-03, 3.6977911e-01,\n",
              "        6.2012398e-01],\n",
              "       [9.9999994e-01, 6.8119029e-13, 2.4704632e-11, 2.1036108e-09,\n",
              "        3.0876596e-10],\n",
              "       [9.9999994e-01, 5.2891437e-16, 2.0848967e-13, 5.3569989e-11,\n",
              "        7.8245958e-11],\n",
              "       [9.9999994e-01, 3.8596754e-13, 1.3642829e-11, 1.3714172e-09,\n",
              "        1.7119328e-10],\n",
              "       [1.3968181e-04, 2.4151718e-03, 2.6768185e-03, 6.4586771e-01,\n",
              "        3.4890047e-01],\n",
              "       [1.5817126e-04, 5.3710619e-07, 1.8748597e-08, 1.4507201e-02,\n",
              "        9.8533410e-01],\n",
              "       [9.9999934e-01, 2.7884144e-09, 1.6211013e-08, 5.1237322e-07,\n",
              "        6.2431496e-08],\n",
              "       [4.1437000e-02, 7.9180045e-06, 6.6709894e-05, 1.6789062e-02,\n",
              "        9.4169933e-01],\n",
              "       [9.9998719e-01, 3.2134368e-09, 5.0280512e-08, 4.1720559e-06,\n",
              "        8.5626098e-06],\n",
              "       [2.0791229e-05, 2.4659359e-01, 6.9638743e-05, 6.9118565e-01,\n",
              "        6.2130313e-02],\n",
              "       [2.9126883e-01, 7.9072146e-03, 8.9886400e-04, 3.1544948e-01,\n",
              "        3.8447568e-01],\n",
              "       [9.9999839e-01, 7.4578754e-10, 7.2663147e-09, 8.0164205e-07,\n",
              "        7.5428125e-07],\n",
              "       [2.5054128e-04, 8.2321990e-01, 1.2009491e-01, 5.5251271e-02,\n",
              "        1.1833678e-03],\n",
              "       [9.9999994e-01, 1.2828186e-11, 1.4888346e-10, 1.1260811e-08,\n",
              "        1.0123351e-09],\n",
              "       [5.3313216e-03, 4.2984243e-06, 7.6709990e-03, 5.3216867e-02,\n",
              "        9.3377650e-01],\n",
              "       [2.9460595e-03, 9.6945000e-01, 7.1064290e-03, 1.8467085e-02,\n",
              "        2.0303708e-03],\n",
              "       [9.9997967e-01, 1.0757916e-06, 3.9803149e-07, 1.7335757e-05,\n",
              "        1.6034231e-06],\n",
              "       [7.5534347e-04, 9.8383874e-01, 4.0202141e-03, 1.0688832e-02,\n",
              "        6.9687009e-04]], dtype=float32)"
            ]
          },
          "metadata": {},
          "execution_count": 24
        }
      ]
    },
    {
      "cell_type": "code",
      "source": [
        "comp = pd.DataFrame(y_test_encoded) # Creating a dataframe\n",
        "comp.columns = ['Actual Value'] # Changing the column name\n",
        "comp"
      ],
      "metadata": {
        "colab": {
          "base_uri": "https://localhost:8080/",
          "height": 1000
        },
        "id": "Qatd4Vw-wHOp",
        "outputId": "46970c6a-aacc-47ef-c980-d24d46c69759"
      },
      "execution_count": null,
      "outputs": [
        {
          "output_type": "execute_result",
          "data": {
            "text/plain": [
              "    Actual Value\n",
              "0              4\n",
              "1              0\n",
              "2              4\n",
              "3              3\n",
              "4              0\n",
              "5              0\n",
              "6              0\n",
              "7              4\n",
              "8              1\n",
              "9              4\n",
              "10             1\n",
              "11             4\n",
              "12             0\n",
              "13             1\n",
              "14             2\n",
              "15             0\n",
              "16             2\n",
              "17             4\n",
              "18             3\n",
              "19             0\n",
              "20             2\n",
              "21             4\n",
              "22             4\n",
              "23             0\n",
              "24             0\n",
              "25             0\n",
              "26             3\n",
              "27             4\n",
              "28             0\n",
              "29             4\n",
              "30             0\n",
              "31             3\n",
              "32             3\n",
              "33             0\n",
              "34             1\n",
              "35             0\n",
              "36             4\n",
              "37             1\n",
              "38             0\n",
              "39             1"
            ],
            "text/html": [
              "\n",
              "  <div id=\"df-5b2be602-1c8c-45e2-88f1-4234b73766b3\">\n",
              "    <div class=\"colab-df-container\">\n",
              "      <div>\n",
              "<style scoped>\n",
              "    .dataframe tbody tr th:only-of-type {\n",
              "        vertical-align: middle;\n",
              "    }\n",
              "\n",
              "    .dataframe tbody tr th {\n",
              "        vertical-align: top;\n",
              "    }\n",
              "\n",
              "    .dataframe thead th {\n",
              "        text-align: right;\n",
              "    }\n",
              "</style>\n",
              "<table border=\"1\" class=\"dataframe\">\n",
              "  <thead>\n",
              "    <tr style=\"text-align: right;\">\n",
              "      <th></th>\n",
              "      <th>Actual Value</th>\n",
              "    </tr>\n",
              "  </thead>\n",
              "  <tbody>\n",
              "    <tr>\n",
              "      <th>0</th>\n",
              "      <td>4</td>\n",
              "    </tr>\n",
              "    <tr>\n",
              "      <th>1</th>\n",
              "      <td>0</td>\n",
              "    </tr>\n",
              "    <tr>\n",
              "      <th>2</th>\n",
              "      <td>4</td>\n",
              "    </tr>\n",
              "    <tr>\n",
              "      <th>3</th>\n",
              "      <td>3</td>\n",
              "    </tr>\n",
              "    <tr>\n",
              "      <th>4</th>\n",
              "      <td>0</td>\n",
              "    </tr>\n",
              "    <tr>\n",
              "      <th>5</th>\n",
              "      <td>0</td>\n",
              "    </tr>\n",
              "    <tr>\n",
              "      <th>6</th>\n",
              "      <td>0</td>\n",
              "    </tr>\n",
              "    <tr>\n",
              "      <th>7</th>\n",
              "      <td>4</td>\n",
              "    </tr>\n",
              "    <tr>\n",
              "      <th>8</th>\n",
              "      <td>1</td>\n",
              "    </tr>\n",
              "    <tr>\n",
              "      <th>9</th>\n",
              "      <td>4</td>\n",
              "    </tr>\n",
              "    <tr>\n",
              "      <th>10</th>\n",
              "      <td>1</td>\n",
              "    </tr>\n",
              "    <tr>\n",
              "      <th>11</th>\n",
              "      <td>4</td>\n",
              "    </tr>\n",
              "    <tr>\n",
              "      <th>12</th>\n",
              "      <td>0</td>\n",
              "    </tr>\n",
              "    <tr>\n",
              "      <th>13</th>\n",
              "      <td>1</td>\n",
              "    </tr>\n",
              "    <tr>\n",
              "      <th>14</th>\n",
              "      <td>2</td>\n",
              "    </tr>\n",
              "    <tr>\n",
              "      <th>15</th>\n",
              "      <td>0</td>\n",
              "    </tr>\n",
              "    <tr>\n",
              "      <th>16</th>\n",
              "      <td>2</td>\n",
              "    </tr>\n",
              "    <tr>\n",
              "      <th>17</th>\n",
              "      <td>4</td>\n",
              "    </tr>\n",
              "    <tr>\n",
              "      <th>18</th>\n",
              "      <td>3</td>\n",
              "    </tr>\n",
              "    <tr>\n",
              "      <th>19</th>\n",
              "      <td>0</td>\n",
              "    </tr>\n",
              "    <tr>\n",
              "      <th>20</th>\n",
              "      <td>2</td>\n",
              "    </tr>\n",
              "    <tr>\n",
              "      <th>21</th>\n",
              "      <td>4</td>\n",
              "    </tr>\n",
              "    <tr>\n",
              "      <th>22</th>\n",
              "      <td>4</td>\n",
              "    </tr>\n",
              "    <tr>\n",
              "      <th>23</th>\n",
              "      <td>0</td>\n",
              "    </tr>\n",
              "    <tr>\n",
              "      <th>24</th>\n",
              "      <td>0</td>\n",
              "    </tr>\n",
              "    <tr>\n",
              "      <th>25</th>\n",
              "      <td>0</td>\n",
              "    </tr>\n",
              "    <tr>\n",
              "      <th>26</th>\n",
              "      <td>3</td>\n",
              "    </tr>\n",
              "    <tr>\n",
              "      <th>27</th>\n",
              "      <td>4</td>\n",
              "    </tr>\n",
              "    <tr>\n",
              "      <th>28</th>\n",
              "      <td>0</td>\n",
              "    </tr>\n",
              "    <tr>\n",
              "      <th>29</th>\n",
              "      <td>4</td>\n",
              "    </tr>\n",
              "    <tr>\n",
              "      <th>30</th>\n",
              "      <td>0</td>\n",
              "    </tr>\n",
              "    <tr>\n",
              "      <th>31</th>\n",
              "      <td>3</td>\n",
              "    </tr>\n",
              "    <tr>\n",
              "      <th>32</th>\n",
              "      <td>3</td>\n",
              "    </tr>\n",
              "    <tr>\n",
              "      <th>33</th>\n",
              "      <td>0</td>\n",
              "    </tr>\n",
              "    <tr>\n",
              "      <th>34</th>\n",
              "      <td>1</td>\n",
              "    </tr>\n",
              "    <tr>\n",
              "      <th>35</th>\n",
              "      <td>0</td>\n",
              "    </tr>\n",
              "    <tr>\n",
              "      <th>36</th>\n",
              "      <td>4</td>\n",
              "    </tr>\n",
              "    <tr>\n",
              "      <th>37</th>\n",
              "      <td>1</td>\n",
              "    </tr>\n",
              "    <tr>\n",
              "      <th>38</th>\n",
              "      <td>0</td>\n",
              "    </tr>\n",
              "    <tr>\n",
              "      <th>39</th>\n",
              "      <td>1</td>\n",
              "    </tr>\n",
              "  </tbody>\n",
              "</table>\n",
              "</div>\n",
              "      <button class=\"colab-df-convert\" onclick=\"convertToInteractive('df-5b2be602-1c8c-45e2-88f1-4234b73766b3')\"\n",
              "              title=\"Convert this dataframe to an interactive table.\"\n",
              "              style=\"display:none;\">\n",
              "        \n",
              "  <svg xmlns=\"http://www.w3.org/2000/svg\" height=\"24px\"viewBox=\"0 0 24 24\"\n",
              "       width=\"24px\">\n",
              "    <path d=\"M0 0h24v24H0V0z\" fill=\"none\"/>\n",
              "    <path d=\"M18.56 5.44l.94 2.06.94-2.06 2.06-.94-2.06-.94-.94-2.06-.94 2.06-2.06.94zm-11 1L8.5 8.5l.94-2.06 2.06-.94-2.06-.94L8.5 2.5l-.94 2.06-2.06.94zm10 10l.94 2.06.94-2.06 2.06-.94-2.06-.94-.94-2.06-.94 2.06-2.06.94z\"/><path d=\"M17.41 7.96l-1.37-1.37c-.4-.4-.92-.59-1.43-.59-.52 0-1.04.2-1.43.59L10.3 9.45l-7.72 7.72c-.78.78-.78 2.05 0 2.83L4 21.41c.39.39.9.59 1.41.59.51 0 1.02-.2 1.41-.59l7.78-7.78 2.81-2.81c.8-.78.8-2.07 0-2.86zM5.41 20L4 18.59l7.72-7.72 1.47 1.35L5.41 20z\"/>\n",
              "  </svg>\n",
              "      </button>\n",
              "      \n",
              "  <style>\n",
              "    .colab-df-container {\n",
              "      display:flex;\n",
              "      flex-wrap:wrap;\n",
              "      gap: 12px;\n",
              "    }\n",
              "\n",
              "    .colab-df-convert {\n",
              "      background-color: #E8F0FE;\n",
              "      border: none;\n",
              "      border-radius: 50%;\n",
              "      cursor: pointer;\n",
              "      display: none;\n",
              "      fill: #1967D2;\n",
              "      height: 32px;\n",
              "      padding: 0 0 0 0;\n",
              "      width: 32px;\n",
              "    }\n",
              "\n",
              "    .colab-df-convert:hover {\n",
              "      background-color: #E2EBFA;\n",
              "      box-shadow: 0px 1px 2px rgba(60, 64, 67, 0.3), 0px 1px 3px 1px rgba(60, 64, 67, 0.15);\n",
              "      fill: #174EA6;\n",
              "    }\n",
              "\n",
              "    [theme=dark] .colab-df-convert {\n",
              "      background-color: #3B4455;\n",
              "      fill: #D2E3FC;\n",
              "    }\n",
              "\n",
              "    [theme=dark] .colab-df-convert:hover {\n",
              "      background-color: #434B5C;\n",
              "      box-shadow: 0px 1px 3px 1px rgba(0, 0, 0, 0.15);\n",
              "      filter: drop-shadow(0px 1px 2px rgba(0, 0, 0, 0.3));\n",
              "      fill: #FFFFFF;\n",
              "    }\n",
              "  </style>\n",
              "\n",
              "      <script>\n",
              "        const buttonEl =\n",
              "          document.querySelector('#df-5b2be602-1c8c-45e2-88f1-4234b73766b3 button.colab-df-convert');\n",
              "        buttonEl.style.display =\n",
              "          google.colab.kernel.accessAllowed ? 'block' : 'none';\n",
              "\n",
              "        async function convertToInteractive(key) {\n",
              "          const element = document.querySelector('#df-5b2be602-1c8c-45e2-88f1-4234b73766b3');\n",
              "          const dataTable =\n",
              "            await google.colab.kernel.invokeFunction('convertToInteractive',\n",
              "                                                     [key], {});\n",
              "          if (!dataTable) return;\n",
              "\n",
              "          const docLinkHtml = 'Like what you see? Visit the ' +\n",
              "            '<a target=\"_blank\" href=https://colab.research.google.com/notebooks/data_table.ipynb>data table notebook</a>'\n",
              "            + ' to learn more about interactive tables.';\n",
              "          element.innerHTML = '';\n",
              "          dataTable['output_type'] = 'display_data';\n",
              "          await google.colab.output.renderOutput(dataTable, element);\n",
              "          const docLink = document.createElement('div');\n",
              "          docLink.innerHTML = docLinkHtml;\n",
              "          element.appendChild(docLink);\n",
              "        }\n",
              "      </script>\n",
              "    </div>\n",
              "  </div>\n",
              "  "
            ]
          },
          "metadata": {},
          "execution_count": 25
        }
      ]
    },
    {
      "cell_type": "code",
      "source": [
        "# Print the model summary\n",
        "model.summary()"
      ],
      "metadata": {
        "colab": {
          "base_uri": "https://localhost:8080/"
        },
        "id": "V6V-TZP3wRUp",
        "outputId": "3fc88233-6aa7-4e71-e3ae-62abf17cb315"
      },
      "execution_count": null,
      "outputs": [
        {
          "output_type": "stream",
          "name": "stdout",
          "text": [
            "Model: \"sequential\"\n",
            "_________________________________________________________________\n",
            " Layer (type)                Output Shape              Param #   \n",
            "=================================================================\n",
            " dense (Dense)               (None, 64)                384       \n",
            "                                                                 \n",
            " dense_1 (Dense)             (None, 128)               8320      \n",
            "                                                                 \n",
            " dense_2 (Dense)             (None, 64)                8256      \n",
            "                                                                 \n",
            " dense_3 (Dense)             (None, 32)                2080      \n",
            "                                                                 \n",
            " dense_4 (Dense)             (None, 5)                 165       \n",
            "                                                                 \n",
            "=================================================================\n",
            "Total params: 19,205\n",
            "Trainable params: 19,205\n",
            "Non-trainable params: 0\n",
            "_________________________________________________________________\n"
          ]
        }
      ]
    },
    {
      "cell_type": "markdown",
      "source": [
        "# Task 3 : Test the model with random data"
      ],
      "metadata": {
        "id": "Z6OrhvnAwWdu"
      }
    },
    {
      "cell_type": "code",
      "source": [
        "# Generate random data for testing\n",
        "random_data = np.random.rand(1, 5)\n",
        "random_data"
      ],
      "metadata": {
        "colab": {
          "base_uri": "https://localhost:8080/"
        },
        "id": "noRjlKaIwYMA",
        "outputId": "ca0ff06f-b5e1-44ce-9fda-4b73f1beb4a7"
      },
      "execution_count": null,
      "outputs": [
        {
          "output_type": "execute_result",
          "data": {
            "text/plain": [
              "array([[0.58857633, 0.45966327, 0.11338478, 0.10455691, 0.29322196]])"
            ]
          },
          "metadata": {},
          "execution_count": 27
        }
      ]
    },
    {
      "cell_type": "code",
      "source": [
        "# Make predictions\n",
        "predictions = model.predict(random_data)\n",
        "predictions"
      ],
      "metadata": {
        "colab": {
          "base_uri": "https://localhost:8080/"
        },
        "id": "qpYQlShwwbzN",
        "outputId": "28fde7d1-df31-4614-907e-1c10f9da9b82"
      },
      "execution_count": null,
      "outputs": [
        {
          "output_type": "stream",
          "name": "stdout",
          "text": [
            "1/1 [==============================] - 0s 49ms/step\n"
          ]
        },
        {
          "output_type": "execute_result",
          "data": {
            "text/plain": [
              "array([[9.9934596e-01, 1.7040064e-05, 1.7047777e-04, 3.6303891e-04,\n",
              "        1.0353992e-04]], dtype=float32)"
            ]
          },
          "metadata": {},
          "execution_count": 28
        }
      ]
    },
    {
      "cell_type": "code",
      "source": [
        "# Get the predicted drug class\n",
        "predicted_class = np.argmax(predictions)"
      ],
      "metadata": {
        "id": "nmr-TIRbwf2V"
      },
      "execution_count": null,
      "outputs": []
    },
    {
      "cell_type": "code",
      "source": [
        "# Print the predicted class\n",
        "print(\"Predicted Drug Class :\", predicted_class)"
      ],
      "metadata": {
        "colab": {
          "base_uri": "https://localhost:8080/"
        },
        "id": "Uo169wASwnEv",
        "outputId": "02e19847-3ed1-405d-a8c0-f73edc06f998"
      },
      "execution_count": null,
      "outputs": [
        {
          "output_type": "stream",
          "name": "stdout",
          "text": [
            "Predicted Drug Class : 0\n"
          ]
        }
      ]
    }
  ]
}