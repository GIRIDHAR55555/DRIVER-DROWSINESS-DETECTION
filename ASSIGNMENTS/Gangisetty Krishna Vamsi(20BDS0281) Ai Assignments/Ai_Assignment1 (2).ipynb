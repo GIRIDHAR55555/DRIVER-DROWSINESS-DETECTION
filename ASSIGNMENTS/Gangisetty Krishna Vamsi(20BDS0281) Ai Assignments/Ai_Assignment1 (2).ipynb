{
  "nbformat": 4,
  "nbformat_minor": 0,
  "metadata": {
    "colab": {
      "provenance": []
    },
    "kernelspec": {
      "name": "python3",
      "display_name": "Python 3"
    },
    "language_info": {
      "name": "python"
    }
  },
  "cells": [
    {
      "cell_type": "code",
      "execution_count": null,
      "metadata": {
        "id": "4Oyobc3Xwely"
      },
      "outputs": [],
      "source": [
        "#AI Assignment 1\n",
        "#Name : Gangisetty Krishna Vamsi\n",
        "#Reg.No : 20BDS0281\n",
        "#college : VIT Vellore\n",
        "#email :gangikrishna.vamsi2020@vitstudent.ac.in"
      ]
    },
    {
      "cell_type": "code",
      "source": [
        "#Create a pandas dataframe (DataFrame name as 'df') with numpy random values (4 features and 4 observation)"
      ],
      "metadata": {
        "id": "6PTWvJJJxQg2"
      },
      "execution_count": null,
      "outputs": []
    },
    {
      "cell_type": "code",
      "source": [
        "import numpy as np\n",
        "import pandas as pd\n",
        "\n",
        "# Set the random seed for reproducibility\n",
        "np.random.seed(25)\n",
        "\n",
        "# Create random values\n",
        "data = np.random.rand(4, 4)\n",
        "\n",
        "# Create the DataFrame\n",
        "df = pd.DataFrame(data, columns=['Feature1', 'Feature2', 'Feature3', 'Feature4'])\n",
        "print(df)"
      ],
      "metadata": {
        "colab": {
          "base_uri": "https://localhost:8080/"
        },
        "id": "LA_9kMQlxmAR",
        "outputId": "7bc25fa9-c401-46e6-bf64-75f5ca8fb2c1"
      },
      "execution_count": null,
      "outputs": [
        {
          "output_type": "stream",
          "name": "stdout",
          "text": [
            "   Feature1  Feature2  Feature3  Feature4\n",
            "0  0.870124  0.582277  0.278839  0.185911\n",
            "1  0.411100  0.117376  0.684969  0.437611\n",
            "2  0.556229  0.367080  0.402366  0.113041\n",
            "3  0.447031  0.585445  0.161985  0.520719\n"
          ]
        }
      ]
    },
    {
      "cell_type": "code",
      "source": [
        "#Rename the task - 1 'df' dataframe column names to 'Random value 1', 'Random value 2', 'Random value 3' & 'Random value 4'"
      ],
      "metadata": {
        "id": "Gy3Uv-jKx8ma"
      },
      "execution_count": null,
      "outputs": []
    },
    {
      "cell_type": "code",
      "source": [
        "# Rename the column names\n",
        "df.rename(columns={'Feature1': 'Random value 1', 'Feature2': 'Random value 2',\n",
        "                   'Feature3': 'Random value 3', 'Feature4': 'Random value 4'},\n",
        "          inplace=True)\n",
        "print(df)"
      ],
      "metadata": {
        "colab": {
          "base_uri": "https://localhost:8080/"
        },
        "id": "McthnuBGyCrZ",
        "outputId": "59c18942-e7f9-4a65-9d0d-5396f5b27a14"
      },
      "execution_count": null,
      "outputs": [
        {
          "output_type": "stream",
          "name": "stdout",
          "text": [
            "   Random value 1  Random value 2  Random value 3  Random value 4\n",
            "0        0.870124        0.582277        0.278839        0.185911\n",
            "1        0.411100        0.117376        0.684969        0.437611\n",
            "2        0.556229        0.367080        0.402366        0.113041\n",
            "3        0.447031        0.585445        0.161985        0.520719\n"
          ]
        }
      ]
    },
    {
      "cell_type": "code",
      "source": [
        "#Find the descriptive statistics of the 'df' dataframe."
      ],
      "metadata": {
        "id": "rqud0zYLyOGx"
      },
      "execution_count": null,
      "outputs": []
    },
    {
      "cell_type": "code",
      "source": [
        "# Display descriptive statistics\n",
        "statistics = df.describe()\n",
        "\n",
        "# Print the statistics\n",
        "print(statistics)"
      ],
      "metadata": {
        "colab": {
          "base_uri": "https://localhost:8080/"
        },
        "id": "AtNTma1OyZ4N",
        "outputId": "3f6eb1cc-ec0b-44d1-a938-463043b56ccf"
      },
      "execution_count": null,
      "outputs": [
        {
          "output_type": "stream",
          "name": "stdout",
          "text": [
            "       Random value 1  Random value 2  Random value 3  Random value 4\n",
            "count        4.000000        4.000000        4.000000        4.000000\n",
            "mean         0.571121        0.413044        0.382040        0.314320\n",
            "std          0.208670        0.222032        0.224539        0.195621\n",
            "min          0.411100        0.117376        0.161985        0.113041\n",
            "25%          0.438048        0.304654        0.249625        0.167694\n",
            "50%          0.501630        0.474679        0.340602        0.311761\n",
            "75%          0.634703        0.583069        0.473016        0.458388\n",
            "max          0.870124        0.585445        0.684969        0.520719\n"
          ]
        }
      ]
    },
    {
      "cell_type": "code",
      "source": [
        "#Check for the null values in 'df' and find the data type of the columns."
      ],
      "metadata": {
        "id": "wGdvisD0yi40"
      },
      "execution_count": null,
      "outputs": []
    },
    {
      "cell_type": "code",
      "source": [
        "# Check for null values\n",
        "null_values = df.isnull().sum()\n",
        "\n",
        "# Print null values\n",
        "print(\"Null Values:\\n\", null_values)\n",
        "\n",
        "# Find data types of columns\n",
        "data_types = df.dtypes\n",
        "\n",
        "# Print data types\n",
        "print(\"\\nData Types:\\n\", data_types)"
      ],
      "metadata": {
        "colab": {
          "base_uri": "https://localhost:8080/"
        },
        "id": "s9BFC9x9yuYX",
        "outputId": "b6f37308-6d83-4fab-d320-fdfba6284200"
      },
      "execution_count": null,
      "outputs": [
        {
          "output_type": "stream",
          "name": "stdout",
          "text": [
            "Null Values:\n",
            " Random value 1    0\n",
            "Random value 2    0\n",
            "Random value 3    0\n",
            "Random value 4    0\n",
            "dtype: int64\n",
            "\n",
            "Data Types:\n",
            " Random value 1    float64\n",
            "Random value 2    float64\n",
            "Random value 3    float64\n",
            "Random value 4    float64\n",
            "dtype: object\n"
          ]
        }
      ]
    },
    {
      "cell_type": "code",
      "source": [
        "#Display the 'Random value 2' & 'Random value 3' columns with location method and index location method."
      ],
      "metadata": {
        "id": "poGKD6tcy5jc"
      },
      "execution_count": null,
      "outputs": []
    },
    {
      "cell_type": "code",
      "source": [
        "# Display columns using location method\n",
        "location_method_cols = df.loc[:, ['Random value 2', 'Random value 3']]\n",
        "print(\"Columns using location method:\\n\", location_method_cols)\n",
        "\n",
        "# Display columns using index location method\n",
        "index_location_method_cols = df.iloc[:, [1, 2]]\n",
        "print(\"\\nColumns using index location method:\\n\", index_location_method_cols)"
      ],
      "metadata": {
        "colab": {
          "base_uri": "https://localhost:8080/"
        },
        "id": "gxDpax46zBmw",
        "outputId": "4905bca0-d57c-4037-ad25-66f4738175af"
      },
      "execution_count": null,
      "outputs": [
        {
          "output_type": "stream",
          "name": "stdout",
          "text": [
            "Columns using location method:\n",
            "    Random value 2  Random value 3\n",
            "0        0.582277        0.278839\n",
            "1        0.117376        0.684969\n",
            "2        0.367080        0.402366\n",
            "3        0.585445        0.161985\n",
            "\n",
            "Columns using index location method:\n",
            "    Random value 2  Random value 3\n",
            "0        0.582277        0.278839\n",
            "1        0.117376        0.684969\n",
            "2        0.367080        0.402366\n",
            "3        0.585445        0.161985\n"
          ]
        }
      ]
    }
  ]
}