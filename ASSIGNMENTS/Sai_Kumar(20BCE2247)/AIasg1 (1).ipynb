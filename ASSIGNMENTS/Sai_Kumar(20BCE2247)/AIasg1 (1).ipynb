{
  "nbformat": 4,
  "nbformat_minor": 0,
  "metadata": {
    "colab": {
      "provenance": []
    },
    "kernelspec": {
      "name": "python3",
      "display_name": "Python 3"
    },
    "language_info": {
      "name": "python"
    }
  },
  "cells": [
    {
      "cell_type": "code",
      "source": [
        "#sai kumar - 20BCE2247\n",
        "#VIT VELLORE\n",
        "#AI assignment -1 \n",
        "\n",
        "import numpy as np"
      ],
      "metadata": {
        "id": "AhvgOyEz8-Ro"
      },
      "execution_count": 1,
      "outputs": []
    },
    {
      "cell_type": "code",
      "source": [
        "import pandas as pd"
      ],
      "metadata": {
        "id": "y8G71_129HTl"
      },
      "execution_count": 3,
      "outputs": []
    },
    {
      "cell_type": "code",
      "source": [
        "\n",
        "# Set the random seed for reproducibility\n",
        "np.random.seed(42)"
      ],
      "metadata": {
        "id": "QeW6cHZb9S6b"
      },
      "execution_count": 4,
      "outputs": []
    },
    {
      "cell_type": "code",
      "source": [
        "# Create random values\n",
        "data = np.random.rand(4, 4)"
      ],
      "metadata": {
        "id": "DJflLxXa9Yi1"
      },
      "execution_count": 5,
      "outputs": []
    },
    {
      "cell_type": "code",
      "source": [
        "# Create the DataFrame\n",
        "df = pd.DataFrame(data, columns=['Feature1', 'Feature2', 'Feature3', 'Feature4'])"
      ],
      "metadata": {
        "id": "3A1Qgpvv9x3o"
      },
      "execution_count": 6,
      "outputs": []
    },
    {
      "cell_type": "code",
      "source": [
        "print(df)"
      ],
      "metadata": {
        "colab": {
          "base_uri": "https://localhost:8080/"
        },
        "id": "V_T7i8GS908B",
        "outputId": "8327d023-2fff-450e-d00c-f48daa10325a"
      },
      "execution_count": 7,
      "outputs": [
        {
          "output_type": "stream",
          "name": "stdout",
          "text": [
            "   Feature1  Feature2  Feature3  Feature4\n",
            "0  0.374540  0.950714  0.731994  0.598658\n",
            "1  0.156019  0.155995  0.058084  0.866176\n",
            "2  0.601115  0.708073  0.020584  0.969910\n",
            "3  0.832443  0.212339  0.181825  0.183405\n"
          ]
        }
      ]
    },
    {
      "cell_type": "code",
      "source": [
        "#Rename the task - 1 'df' dataframe column names to 'Random value 1', 'Random value 2', 'Random value 3' & 'Random value 4"
      ],
      "metadata": {
        "id": "N1b73snA92tT"
      },
      "execution_count": 8,
      "outputs": []
    },
    {
      "cell_type": "code",
      "source": [
        "df.rename(columns={'Feature1': 'Random value 1', 'Feature2': 'Random value 2',\n",
        "                   'Feature3': 'Random value 3', 'Feature4': 'Random value 4'},\n",
        "          inplace=True)"
      ],
      "metadata": {
        "id": "4v0ZkEGx97P7"
      },
      "execution_count": 9,
      "outputs": []
    },
    {
      "cell_type": "code",
      "source": [
        "print(df)"
      ],
      "metadata": {
        "colab": {
          "base_uri": "https://localhost:8080/"
        },
        "id": "j3ByDTxk9_Qg",
        "outputId": "9e97d3d0-a9d4-4beb-fda4-1b94b3512ab3"
      },
      "execution_count": 10,
      "outputs": [
        {
          "output_type": "stream",
          "name": "stdout",
          "text": [
            "   Random value 1  Random value 2  Random value 3  Random value 4\n",
            "0        0.374540        0.950714        0.731994        0.598658\n",
            "1        0.156019        0.155995        0.058084        0.866176\n",
            "2        0.601115        0.708073        0.020584        0.969910\n",
            "3        0.832443        0.212339        0.181825        0.183405\n"
          ]
        }
      ]
    },
    {
      "cell_type": "code",
      "source": [
        "#Check for the null values in 'df' and find the data type of the columns"
      ],
      "metadata": {
        "id": "oFqza-3s-A1Y"
      },
      "execution_count": 11,
      "outputs": []
    },
    {
      "cell_type": "code",
      "source": [
        "# Check for null values\n",
        "null_values = df.isnull().sum()"
      ],
      "metadata": {
        "id": "8kWiKiCf-DcR"
      },
      "execution_count": 12,
      "outputs": []
    },
    {
      "cell_type": "code",
      "source": [
        "# Print null values\n",
        "print(\"Null Values:\\n\", null_values)"
      ],
      "metadata": {
        "colab": {
          "base_uri": "https://localhost:8080/"
        },
        "id": "GdJBXItQ-FaS",
        "outputId": "166aa784-f21c-4938-a451-53487cb3ef95"
      },
      "execution_count": 13,
      "outputs": [
        {
          "output_type": "stream",
          "name": "stdout",
          "text": [
            "Null Values:\n",
            " Random value 1    0\n",
            "Random value 2    0\n",
            "Random value 3    0\n",
            "Random value 4    0\n",
            "dtype: int64\n"
          ]
        }
      ]
    },
    {
      "cell_type": "code",
      "source": [
        "# Find data types of columns\n",
        "data_types = df.dtypes"
      ],
      "metadata": {
        "id": "W8DfAcbK-H6W"
      },
      "execution_count": 14,
      "outputs": []
    },
    {
      "cell_type": "code",
      "source": [
        "# Print data types\n",
        "print(\"\\nData Types:\\n\", data_types)"
      ],
      "metadata": {
        "colab": {
          "base_uri": "https://localhost:8080/"
        },
        "id": "5yjeCtCk-LKA",
        "outputId": "2f51f09c-10be-45c0-b479-78bf28965f2d"
      },
      "execution_count": 15,
      "outputs": [
        {
          "output_type": "stream",
          "name": "stdout",
          "text": [
            "\n",
            "Data Types:\n",
            " Random value 1    float64\n",
            "Random value 2    float64\n",
            "Random value 3    float64\n",
            "Random value 4    float64\n",
            "dtype: object\n"
          ]
        }
      ]
    },
    {
      "cell_type": "code",
      "source": [
        "#Display the 'Random value 2' & 'Random value 3' columns with location method and index location method"
      ],
      "metadata": {
        "id": "k7t4lnBM-NHf"
      },
      "execution_count": 16,
      "outputs": []
    },
    {
      "cell_type": "code",
      "source": [
        "# Display columns using location method\n",
        "location_method_cols = df.loc[:, ['Random value 2', 'Random value 3']]"
      ],
      "metadata": {
        "id": "LodylR5Q-RuK"
      },
      "execution_count": 17,
      "outputs": []
    },
    {
      "cell_type": "code",
      "source": [
        "print(\"Columns using location method:\\n\", location_method_cols)"
      ],
      "metadata": {
        "colab": {
          "base_uri": "https://localhost:8080/"
        },
        "id": "4LTZfdPy-UwW",
        "outputId": "ecd621cd-f2b3-4c52-d30b-36111949ce1f"
      },
      "execution_count": 18,
      "outputs": [
        {
          "output_type": "stream",
          "name": "stdout",
          "text": [
            "Columns using location method:\n",
            "    Random value 2  Random value 3\n",
            "0        0.950714        0.731994\n",
            "1        0.155995        0.058084\n",
            "2        0.708073        0.020584\n",
            "3        0.212339        0.181825\n"
          ]
        }
      ]
    },
    {
      "cell_type": "code",
      "source": [
        "# Display columns using index location method\n",
        "index_location_method_cols = df.iloc[:, [1, 2]]\n",
        "print(\"\\nColumns using index location method:\\n\", index_location_method_cols)"
      ],
      "metadata": {
        "colab": {
          "base_uri": "https://localhost:8080/"
        },
        "id": "uPGQVrFn-ZH_",
        "outputId": "c28c559e-86c8-4be8-df35-5ddd21f259bc"
      },
      "execution_count": 19,
      "outputs": [
        {
          "output_type": "stream",
          "name": "stdout",
          "text": [
            "\n",
            "Columns using index location method:\n",
            "    Random value 2  Random value 3\n",
            "0        0.950714        0.731994\n",
            "1        0.155995        0.058084\n",
            "2        0.708073        0.020584\n",
            "3        0.212339        0.181825\n"
          ]
        }
      ]
    },
    {
      "cell_type": "code",
      "source": [],
      "metadata": {
        "id": "sTuPwYka-b8Q"
      },
      "execution_count": null,
      "outputs": []
    }
  ]
}