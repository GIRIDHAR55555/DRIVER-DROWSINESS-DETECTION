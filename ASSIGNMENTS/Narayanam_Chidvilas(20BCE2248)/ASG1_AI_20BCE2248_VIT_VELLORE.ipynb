{
  "nbformat": 4,
  "nbformat_minor": 0,
  "metadata": {
    "colab": {
      "provenance": []
    },
    "kernelspec": {
      "name": "python3",
      "display_name": "Python 3"
    },
    "language_info": {
      "name": "python"
    }
  },
  "cells": [
    {
      "cell_type": "code",
      "execution_count": 39,
      "metadata": {
        "id": "WJIASamXEZ_c"
      },
      "outputs": [],
      "source": [
        "# Name: Narayanam Chidvilas\n",
        "# Reg.No: 20BCE2248\n",
        "# College: VIT, VELLORE"
      ]
    },
    {
      "cell_type": "code",
      "source": [
        "# TASK-1: Create a pandas dataframe (DataFrame name as 'df') with numpy random values (4 features and 4 observation)"
      ],
      "metadata": {
        "id": "4uuM7JEUHSHy"
      },
      "execution_count": null,
      "outputs": []
    },
    {
      "cell_type": "code",
      "source": [
        "import numpy as np\n",
        "import pandas as pd\n",
        "\n",
        "# Set the random seed for reproducibility\n",
        "np.random.seed(77)\n",
        "\n",
        "# Create random values\n",
        "Data = np.random.rand(4,4)\n",
        "\n",
        "# Create the DataFrame\n",
        "df = pd.DataFrame(Data, columns=['Feature-1','Feature-2','Feature-3','Feature-4'])\n",
        "\n",
        "print(df)"
      ],
      "metadata": {
        "colab": {
          "base_uri": "https://localhost:8080/"
        },
        "id": "NB1UxiSCFNpd",
        "outputId": "b86d3442-7059-4d02-9221-5a487f84f299"
      },
      "execution_count": 26,
      "outputs": [
        {
          "output_type": "stream",
          "name": "stdout",
          "text": [
            "   Feature-1  Feature-2  Feature-3  Feature-4\n",
            "0   0.919109   0.642196   0.753712   0.139315\n",
            "1   0.087320   0.788002   0.326151   0.541068\n",
            "2   0.240235   0.545423   0.400555   0.715192\n",
            "3   0.836680   0.588481   0.296155   0.281018\n"
          ]
        }
      ]
    },
    {
      "cell_type": "code",
      "source": [
        "# TASK-2: Rename the task - 1 'df' dataframe column names to 'Random value 1', 'Random value 2', 'Random value 3' & 'Random value 4'"
      ],
      "metadata": {
        "id": "axjcTGkwHWvE"
      },
      "execution_count": 14,
      "outputs": []
    },
    {
      "cell_type": "code",
      "source": [
        "df.rename(columns={'Feature-1': 'Random value 1', 'Feature-2': 'Random value 2',\n",
        "                   'Feature-3': 'Random value 3', 'Feature-4': 'Random value 4'}, inplace=True)\n",
        "\n",
        "print(df)\n"
      ],
      "metadata": {
        "colab": {
          "base_uri": "https://localhost:8080/"
        },
        "id": "D6i_7FF7Hcpk",
        "outputId": "7eb26c91-0f57-4377-a422-5654a6814d32"
      },
      "execution_count": 27,
      "outputs": [
        {
          "output_type": "stream",
          "name": "stdout",
          "text": [
            "   Random value 1  Random value 2  Random value 3  Random value 4\n",
            "0        0.919109        0.642196        0.753712        0.139315\n",
            "1        0.087320        0.788002        0.326151        0.541068\n",
            "2        0.240235        0.545423        0.400555        0.715192\n",
            "3        0.836680        0.588481        0.296155        0.281018\n"
          ]
        }
      ]
    },
    {
      "cell_type": "code",
      "source": [
        "# TASK-3: Find the descriptive statistics of the 'df' dataframe."
      ],
      "metadata": {
        "id": "kYazJ76FInSZ"
      },
      "execution_count": 28,
      "outputs": []
    },
    {
      "cell_type": "code",
      "source": [
        "# Display descriptive statistics\n",
        "statistics = df.describe()\n",
        "\n",
        "print(statistics)\n"
      ],
      "metadata": {
        "colab": {
          "base_uri": "https://localhost:8080/"
        },
        "id": "bJJpvsAmJwRz",
        "outputId": "6819f788-defb-4a08-82a8-68ad3016d7e4"
      },
      "execution_count": 29,
      "outputs": [
        {
          "output_type": "stream",
          "name": "stdout",
          "text": [
            "       Random value 1  Random value 2  Random value 3  Random value 4\n",
            "count        4.000000        4.000000        4.000000        4.000000\n",
            "mean         0.520836        0.641025        0.444143        0.419148\n",
            "std          0.418351        0.105679        0.210994        0.258130\n",
            "min          0.087320        0.545423        0.296155        0.139315\n",
            "25%          0.202006        0.577717        0.318652        0.245592\n",
            "50%          0.538458        0.615338        0.363353        0.411043\n",
            "75%          0.857287        0.678647        0.488844        0.584599\n",
            "max          0.919109        0.788002        0.753712        0.715192\n"
          ]
        }
      ]
    },
    {
      "cell_type": "code",
      "source": [
        "# TASK-4: Check for the null values in 'df' and find the data type of the columns."
      ],
      "metadata": {
        "id": "GB_-jd4aKO_Q"
      },
      "execution_count": 30,
      "outputs": []
    },
    {
      "cell_type": "code",
      "source": [
        "# Check for null values\n",
        "null_values = df.isnull().sum()\n",
        "\n",
        "print(\"Null Values:\\n\\n\", null_values)\n",
        "\n",
        "# Find data types of columns\n",
        "data_types = df.dtypes\n",
        "\n",
        "print(\"\\n\\nData Types:\\n\\n\", data_types)"
      ],
      "metadata": {
        "colab": {
          "base_uri": "https://localhost:8080/"
        },
        "id": "AYdMDZThKdYw",
        "outputId": "3baf76c9-5a8a-4273-fac1-336b97ed7615"
      },
      "execution_count": 35,
      "outputs": [
        {
          "output_type": "stream",
          "name": "stdout",
          "text": [
            "Null Values:\n",
            "\n",
            " Random value 1    0\n",
            "Random value 2    0\n",
            "Random value 3    0\n",
            "Random value 4    0\n",
            "dtype: int64\n",
            "\n",
            "\n",
            "Data Types:\n",
            "\n",
            " Random value 1    float64\n",
            "Random value 2    float64\n",
            "Random value 3    float64\n",
            "Random value 4    float64\n",
            "dtype: object\n"
          ]
        }
      ]
    },
    {
      "cell_type": "code",
      "source": [
        "# TASK-5: Display the 'Random value 2' & 'Random value 3' columns with location method and index location method."
      ],
      "metadata": {
        "id": "waHldi_yLV6j"
      },
      "execution_count": 36,
      "outputs": []
    },
    {
      "cell_type": "code",
      "source": [
        "# Display columns using location method\n",
        "loc_method_cols = df.loc[:, ['Random value 2', 'Random value 3']]\n",
        "print(\"Columns using location method:\\n\", loc_method_cols)\n",
        "\n",
        "# Display columns using index location method\n",
        "index_loc_method_cols = df.iloc[:, [1, 2]]\n",
        "print(\"\\nColumns using index location method:\\n\", index_loc_method_cols)"
      ],
      "metadata": {
        "colab": {
          "base_uri": "https://localhost:8080/"
        },
        "id": "IbkFmbHPLfje",
        "outputId": "f143c6fc-ae9f-4d51-c6e2-1827ab94c499"
      },
      "execution_count": 38,
      "outputs": [
        {
          "output_type": "stream",
          "name": "stdout",
          "text": [
            "Columns using location method:\n",
            "    Random value 2  Random value 3\n",
            "0        0.642196        0.753712\n",
            "1        0.788002        0.326151\n",
            "2        0.545423        0.400555\n",
            "3        0.588481        0.296155\n",
            "\n",
            "Columns using index location method:\n",
            "    Random value 2  Random value 3\n",
            "0        0.642196        0.753712\n",
            "1        0.788002        0.326151\n",
            "2        0.545423        0.400555\n",
            "3        0.588481        0.296155\n"
          ]
        }
      ]
    }
  ]
}